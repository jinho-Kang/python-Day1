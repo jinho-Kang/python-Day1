{
 "cells": [
  {
   "cell_type": "code",
   "execution_count": 25,
   "id": "637329a7",
   "metadata": {},
   "outputs": [
    {
     "name": "stdout",
     "output_type": "stream",
     "text": [
      "C\n"
     ]
    }
   ],
   "source": [
    "score=76\n",
    "if score >= 90:\n",
    "    grade = 'A'\n",
    "elif score >= 80:\n",
    "    grade = 'B'\n",
    "elif score >= 70:\n",
    "    grade = 'C'\n",
    "elif score >= 60:\n",
    "    grade = 'D'\n",
    "else:\n",
    "    grade = 'F'\n",
    "\n",
    "print(grade)\n"
   ]
  },
  {
   "cell_type": "code",
   "execution_count": 26,
   "id": "e5f37656",
   "metadata": {},
   "outputs": [
    {
     "name": "stdout",
     "output_type": "stream",
     "text": [
      "100\n"
     ]
    }
   ],
   "source": [
    "a=10\n",
    "b=a*10 if a % 2==0 else a+10\n",
    "print(b)"
   ]
  },
  {
   "cell_type": "code",
   "execution_count": 27,
   "id": "007534e7",
   "metadata": {},
   "outputs": [
    {
     "name": "stdout",
     "output_type": "stream",
     "text": [
      "No:  1\n",
      "No:  2\n",
      "No:  3\n",
      "No:  4\n",
      "No:  5\n"
     ]
    }
   ],
   "source": [
    "for n in [1,2,3,4,5]:\n",
    "    print(\"No: \",n)"
   ]
  },
  {
   "cell_type": "code",
   "execution_count": 28,
   "id": "33eada43",
   "metadata": {},
   "outputs": [
    {
     "name": "stdout",
     "output_type": "stream",
     "text": [
      "No:  0\n",
      "No:  1\n",
      "No:  2\n",
      "No:  3\n",
      "No:  4\n"
     ]
    }
   ],
   "source": [
    "for n in range(5):\n",
    "    print(\"No: \",n)"
   ]
  },
  {
   "cell_type": "code",
   "execution_count": 31,
   "id": "0659dbb1",
   "metadata": {},
   "outputs": [
    {
     "name": "stdout",
     "output_type": "stream",
     "text": [
      "b\n",
      "a\n",
      "n\n",
      "a\n",
      "n\n",
      "a\n"
     ]
    }
   ],
   "source": [
    "for k in 'banana':\n",
    "    print(k)"
   ]
  },
  {
   "cell_type": "code",
   "execution_count": 29,
   "id": "2f3c463f",
   "metadata": {},
   "outputs": [
    {
     "name": "stdout",
     "output_type": "stream",
     "text": [
      "banana\n",
      "pineapple\n",
      "mango\n"
     ]
    }
   ],
   "source": [
    "for n in ['banana','pineapple', 'mango']:\n",
    "    print(n)"
   ]
  },
  {
   "cell_type": "code",
   "execution_count": 34,
   "id": "85ccc738",
   "metadata": {},
   "outputs": [
    {
     "name": "stdout",
     "output_type": "stream",
     "text": [
      "b\n",
      "<class 'str'>\n",
      "a\n",
      "<class 'str'>\n",
      "n\n",
      "<class 'str'>\n",
      "a\n",
      "<class 'str'>\n",
      "n\n",
      "<class 'str'>\n",
      "a\n",
      "<class 'str'>\n",
      "\n",
      "<class 'str'>\n",
      "p\n",
      "<class 'str'>\n",
      "i\n",
      "<class 'str'>\n",
      "n\n",
      "<class 'str'>\n",
      "e\n",
      "<class 'str'>\n",
      "a\n",
      "<class 'str'>\n",
      "p\n",
      "<class 'str'>\n",
      "p\n",
      "<class 'str'>\n",
      "l\n",
      "<class 'str'>\n",
      "e\n",
      "<class 'str'>\n",
      "\n",
      "<class 'str'>\n",
      "m\n",
      "<class 'str'>\n",
      "a\n",
      "<class 'str'>\n",
      "n\n",
      "<class 'str'>\n",
      "g\n",
      "<class 'str'>\n",
      "o\n",
      "<class 'str'>\n",
      "\n",
      "<class 'str'>\n"
     ]
    }
   ],
   "source": [
    "for n in ['banana','pineapple', 'mango']:\n",
    "    for k in n:\n",
    "        print(k)\n",
    "        print(type(k))\n",
    "    print()\n",
    "    print(type(n))\n",
    "    "
   ]
  },
  {
   "cell_type": "code",
   "execution_count": 38,
   "id": "e414b9a3",
   "metadata": {},
   "outputs": [],
   "source": [
    "def func1(x):\n",
    "    x+=1\n",
    "    print('func1내 x: ',x)"
   ]
  },
  {
   "cell_type": "code",
   "execution_count": 39,
   "id": "7dd37432",
   "metadata": {},
   "outputs": [
    {
     "name": "stdout",
     "output_type": "stream",
     "text": [
      "func1내 x:  11\n",
      "글로벌 x: 10\n"
     ]
    }
   ],
   "source": [
    "x=10\n",
    "func1(x)\n",
    "print('글로벌 x:',x)"
   ]
  },
  {
   "cell_type": "code",
   "execution_count": 40,
   "id": "f7f0997d",
   "metadata": {},
   "outputs": [
    {
     "name": "stdout",
     "output_type": "stream",
     "text": [
      "['melon', 'apple', 'banana']\n",
      "['melon', 'apple', 'banana']\n"
     ]
    }
   ],
   "source": [
    "fruit=['melon','apple','banana']\n",
    "my_bag=fruit\n",
    "print(fruit)\n",
    "print(my_bag)"
   ]
  },
  {
   "cell_type": "code",
   "execution_count": 41,
   "id": "458e5e14",
   "metadata": {},
   "outputs": [
    {
     "name": "stdout",
     "output_type": "stream",
     "text": [
      "['apple', 'banana', 'melon']\n",
      "['apple', 'banana', 'melon']\n"
     ]
    }
   ],
   "source": [
    "my_bag.sort()\n",
    "print(my_bag)\n",
    "print(fruit)"
   ]
  },
  {
   "cell_type": "code",
   "execution_count": 43,
   "id": "4223f39a",
   "metadata": {},
   "outputs": [],
   "source": [
    "def shopping_cart(goods):\n",
    "    goods.append(\"coupon\")\n",
    "    goods=[1,2]\n",
    "    print(\"In shopping cart: \",goods )"
   ]
  },
  {
   "cell_type": "code",
   "execution_count": 45,
   "id": "4cf46b80",
   "metadata": {},
   "outputs": [
    {
     "name": "stdout",
     "output_type": "stream",
     "text": [
      "In shopping cart:  [1, 2]\n",
      "Goods i bought ['bean', 'salt', 'beef', 'coupon']\n"
     ]
    }
   ],
   "source": [
    "shopping_list=['bean','salt','beef']\n",
    "shopping_cart(shopping_list)\n",
    "print(\"Goods i bought\",shopping_list)"
   ]
  },
  {
   "cell_type": "code",
   "execution_count": null,
   "id": "654b00a1",
   "metadata": {},
   "outputs": [],
   "source": []
  },
  {
   "cell_type": "code",
   "execution_count": 47,
   "id": "80d78a70",
   "metadata": {},
   "outputs": [],
   "source": [
    "def f():\n",
    "    global s \n",
    "    s='I love doosan!'\n",
    "    print(s)"
   ]
  },
  {
   "cell_type": "code",
   "execution_count": 49,
   "id": "5921947d",
   "metadata": {},
   "outputs": [
    {
     "name": "stdout",
     "output_type": "stream",
     "text": [
      "I love doosan!\n",
      "I love doosan!\n"
     ]
    }
   ],
   "source": [
    "s='I love haha'\n",
    "f()\n",
    "print(s)"
   ]
  },
  {
   "cell_type": "code",
   "execution_count": 57,
   "id": "e1663214",
   "metadata": {},
   "outputs": [],
   "source": [
    "def print_name(my_name,your_name):\n",
    "    print(\"Hello {0}, My name is {1}\".format(your_name,my_name))"
   ]
  },
  {
   "cell_type": "code",
   "execution_count": 62,
   "id": "6f0232c8",
   "metadata": {},
   "outputs": [
    {
     "name": "stdout",
     "output_type": "stream",
     "text": [
      "Hello jane, My name is Tom\n"
     ]
    }
   ],
   "source": [
    "print_name(\"Tom\",your_name=\"jane\")"
   ]
  },
  {
   "cell_type": "code",
   "execution_count": 64,
   "id": "e6221c96",
   "metadata": {},
   "outputs": [
    {
     "ename": "SyntaxError",
     "evalue": "positional argument follows keyword argument (Temp/ipykernel_9616/468164409.py, line 1)",
     "output_type": "error",
     "traceback": [
      "\u001b[1;36m  File \u001b[1;32m\"C:\\Users\\BIT\\AppData\\Local\\Temp/ipykernel_9616/468164409.py\"\u001b[1;36m, line \u001b[1;32m1\u001b[0m\n\u001b[1;33m    print_name(my_name=\"Tom\",jane)\u001b[0m\n\u001b[1;37m                                 ^\u001b[0m\n\u001b[1;31mSyntaxError\u001b[0m\u001b[1;31m:\u001b[0m positional argument follows keyword argument\n"
     ]
    }
   ],
   "source": [
    "print_name(my_name=\"Tom\",jane)"
   ]
  },
  {
   "cell_type": "code",
   "execution_count": 67,
   "id": "d21fbf2e",
   "metadata": {},
   "outputs": [],
   "source": [
    "def print_name(my_name,your_name=\"jane\"):\n",
    "    print(\"Hello{0} My name is {1}\".format(your_name,my_name))"
   ]
  },
  {
   "cell_type": "code",
   "execution_count": 68,
   "id": "1f5a3468",
   "metadata": {},
   "outputs": [
    {
     "name": "stdout",
     "output_type": "stream",
     "text": [
      "Hellojane My name is Tom\n"
     ]
    }
   ],
   "source": [
    "print_name(\"Tom\")"
   ]
  },
  {
   "cell_type": "code",
   "execution_count": 69,
   "id": "099f4a64",
   "metadata": {},
   "outputs": [
    {
     "name": "stdout",
     "output_type": "stream",
     "text": [
      "[1, 2, 3, 4, 5]\n"
     ]
    }
   ],
   "source": [
    "a_list=[1,2,3,4,5]\n",
    "print(a_list)"
   ]
  },
  {
   "cell_type": "code",
   "execution_count": 73,
   "id": "c4b60073",
   "metadata": {},
   "outputs": [],
   "source": [
    "def f1(a,b,*args):\n",
    "    print(a)\n",
    "    print(b)\n",
    "    print(args)\n",
    "    print(type(args))"
   ]
  },
  {
   "cell_type": "code",
   "execution_count": 74,
   "id": "5f062de3",
   "metadata": {},
   "outputs": [
    {
     "name": "stdout",
     "output_type": "stream",
     "text": [
      "1\n",
      "2\n",
      "(3, 4, 5)\n",
      "<class 'tuple'>\n"
     ]
    }
   ],
   "source": [
    "f1(1,2,3,4,5)"
   ]
  },
  {
   "cell_type": "code",
   "execution_count": 77,
   "id": "08437f04",
   "metadata": {},
   "outputs": [
    {
     "name": "stdout",
     "output_type": "stream",
     "text": [
      "BLACK LIVES MATTER\n",
      "black lives matter\n",
      "Black Lives Matter\n",
      "Black lives matter\n",
      "2\n",
      "True\n",
      "True\n",
      "<class 'str'>\n"
     ]
    }
   ],
   "source": [
    "s = \"BLACK LIVES MATTER\"\n",
    "print(s.upper())\n",
    "print(s.lower())\n",
    "print(s.title())\n",
    "print(s.capitalize())\n",
    "print(s.count(\"T\"))\n",
    "print(s.startswith(\"B\"))\n",
    "\n",
    "k = \"123\"\n",
    "print(k.isdigit())\n",
    "print(type(k))"
   ]
  },
  {
   "cell_type": "code",
   "execution_count": 86,
   "id": "08e874ea",
   "metadata": {},
   "outputs": [
    {
     "name": "stdout",
     "output_type": "stream",
     "text": [
      "1 2 3\n",
      "1 2 3\n",
      "abc--def--ghi\n",
      "abc def ghi\n",
      "def abc ghi\n",
      "def abc ghi\n",
      "    python       asd\n",
      "python    \n",
      "    python\n",
      "python    \n"
     ]
    }
   ],
   "source": [
    "print(1, 2, 3)\n",
    "print(\"%d %d %d\" %(1, 2, 3))\n",
    "print(\"%s--%s--%s\" %('abc','def', 'ghi'))\n",
    "print(\"{} {} {}\".format('abc', 'def', 'ghi'))\n",
    "print(\"{1} {0} {2}\".format('abc', 'def', 'ghi'))\n",
    "print(f\"{'def'} {'abc'} {'ghi'}\")\n",
    "print(\"{0:>10s}{1:>10s}\".format('python','asd'))\n",
    "print(\"{0:<10s}\".format('python'))\n",
    "print(f\"{'python':>10s}\")\n",
    "print(f\"{'python':<10s}\")\n"
   ]
  },
  {
   "cell_type": "code",
   "execution_count": 82,
   "id": "f81f0576",
   "metadata": {},
   "outputs": [
    {
     "name": "stdout",
     "output_type": "stream",
     "text": [
      "[0, 1, 2, 3, 4, 5, 6, 7, 8, 9]\n"
     ]
    }
   ],
   "source": [
    "list1=[i for i in range(10)]\n",
    "print(list1)"
   ]
  },
  {
   "cell_type": "code",
   "execution_count": 80,
   "id": "7771f8fa",
   "metadata": {},
   "outputs": [
    {
     "name": "stdout",
     "output_type": "stream",
     "text": [
      "0\n",
      "1\n",
      "2\n",
      "3\n",
      "4\n",
      "5\n",
      "6\n",
      "7\n",
      "8\n",
      "9\n"
     ]
    }
   ],
   "source": [
    "for i in range(10):\n",
    "    print(i)"
   ]
  },
  {
   "cell_type": "code",
   "execution_count": 87,
   "id": "a2012400",
   "metadata": {},
   "outputs": [
    {
     "name": "stdout",
     "output_type": "stream",
     "text": [
      "['zero', 'one', 'two', 'three']\n"
     ]
    }
   ],
   "source": [
    "items='zero one two three'.split()\n",
    "print(items)"
   ]
  },
  {
   "cell_type": "code",
   "execution_count": 89,
   "id": "a7fd43af",
   "metadata": {},
   "outputs": [
    {
     "name": "stdout",
     "output_type": "stream",
     "text": [
      "['python', 'javascript', 'sql']\n"
     ]
    }
   ],
   "source": [
    "example=\"python,javascript,sql\"\n",
    "print(example.split(\",\"))"
   ]
  },
  {
   "cell_type": "code",
   "execution_count": 92,
   "id": "47686759",
   "metadata": {},
   "outputs": [],
   "source": [
    "colors=['red','blue','green','yellow']\n",
    "result=' '.join(colors)"
   ]
  },
  {
   "cell_type": "code",
   "execution_count": 93,
   "id": "0687cbee",
   "metadata": {},
   "outputs": [
    {
     "name": "stdout",
     "output_type": "stream",
     "text": [
      "red blue green yellow\n"
     ]
    }
   ],
   "source": [
    "print(result)"
   ]
  },
  {
   "cell_type": "code",
   "execution_count": 109,
   "id": "b7d1c57d",
   "metadata": {},
   "outputs": [],
   "source": [
    "s={3,4}"
   ]
  },
  {
   "cell_type": "code",
   "execution_count": 110,
   "id": "7ad89148",
   "metadata": {},
   "outputs": [
    {
     "name": "stdout",
     "output_type": "stream",
     "text": [
      "{1, 3, 4}\n",
      "{3, 4}\n",
      "{1, 3, 4, 5, 6, 7}\n",
      "{1, 4, 5, 6, 7}\n",
      "set()\n"
     ]
    }
   ],
   "source": [
    "s.add(1)\n",
    "print(s)\n",
    "s.remove(1) # 데이터가 없을 경우 Error 발생\n",
    "print(s)\n",
    "a = set([1, 4, 5, 6, 7])\n",
    "s.update(a)\n",
    "print(s)\n",
    "s.discard(3) # 데이터가 없어도 정상 종료\n",
    "print(s)\n",
    "s.clear()\n",
    "print(s)"
   ]
  },
  {
   "cell_type": "code",
   "execution_count": 111,
   "id": "9619e11c",
   "metadata": {},
   "outputs": [
    {
     "name": "stdout",
     "output_type": "stream",
     "text": [
      "{1, 2, 3, 4, 5, 6, 7}\n",
      "{1, 2, 3, 4, 5, 6, 7}\n",
      "{3, 4, 5}\n",
      "{3, 4, 5}\n",
      "{1, 2}\n",
      "{1, 2}\n"
     ]
    }
   ],
   "source": [
    "s1 = set([1, 2, 3, 4, 5])\n",
    "s2 = set([3, 4, 5, 6, 7])\n",
    "\n",
    "print(s1.union(s2))\n",
    "print(s1 | s2)\n",
    "print(s1.intersection(s2))\n",
    "print(s1 & s2)\n",
    "print(s1.difference(s2))\n",
    "print(s1-s2)"
   ]
  },
  {
   "cell_type": "code",
   "execution_count": 113,
   "id": "a85fa04b",
   "metadata": {},
   "outputs": [
    {
     "name": "stdout",
     "output_type": "stream",
     "text": [
      "Jane\n"
     ]
    }
   ],
   "source": [
    "student_info={20220001:'Tom',20220002:'Jane',20220003:'Mike',20220004:'Jessica'}\n",
    "\n",
    "print(student_info[20220002])"
   ]
  },
  {
   "cell_type": "code",
   "execution_count": 116,
   "id": "8adca715",
   "metadata": {},
   "outputs": [
    {
     "name": "stdout",
     "output_type": "stream",
     "text": [
      "{'USA': 1, 'Korea': 82, 'China': 86, 'Malaysia': 60}\n",
      "dict_keys(['USA', 'Korea', 'China', 'Malaysia'])\n",
      "{'USA': 1, 'Korea': 82, 'China': 86, 'Malaysia': 60, 'German': 49}\n",
      "dict_values([1, 82, 86, 60, 49])\n"
     ]
    }
   ],
   "source": [
    "country_code = {'USA':1, 'Korea':82, 'China':86, 'Malaysia':60}\n",
    "print(country_code)\n",
    "\n",
    "print(country_code.keys())\n",
    "\n",
    "country_code['German'] = 49\n",
    "print(country_code)\n",
    "\n",
    "print(country_code.values())"
   ]
  },
  {
   "cell_type": "code",
   "execution_count": 134,
   "id": "381f3aae",
   "metadata": {},
   "outputs": [
    {
     "name": "stdout",
     "output_type": "stream",
     "text": [
      "[('USA', 1), ('Korea', 82), ('China', 86), ('Malaysia', 60), ('German', 49)]\n",
      "<class 'list'>\n"
     ]
    },
    {
     "ename": "TypeError",
     "evalue": "sequence item 0: expected str instance, tuple found",
     "output_type": "error",
     "traceback": [
      "\u001b[1;31m---------------------------------------------------------------------------\u001b[0m",
      "\u001b[1;31mTypeError\u001b[0m                                 Traceback (most recent call last)",
      "\u001b[1;32m~\\AppData\\Local\\Temp/ipykernel_9616/3353130392.py\u001b[0m in \u001b[0;36m<module>\u001b[1;34m\u001b[0m\n\u001b[0;32m      2\u001b[0m \u001b[0mprint\u001b[0m\u001b[1;33m(\u001b[0m\u001b[0ml\u001b[0m\u001b[1;33m)\u001b[0m\u001b[1;33m\u001b[0m\u001b[1;33m\u001b[0m\u001b[0m\n\u001b[0;32m      3\u001b[0m \u001b[0mprint\u001b[0m\u001b[1;33m(\u001b[0m\u001b[0mtype\u001b[0m\u001b[1;33m(\u001b[0m\u001b[0ml\u001b[0m\u001b[1;33m)\u001b[0m\u001b[1;33m)\u001b[0m\u001b[1;33m\u001b[0m\u001b[1;33m\u001b[0m\u001b[0m\n\u001b[1;32m----> 4\u001b[1;33m \u001b[0mprint\u001b[0m\u001b[1;33m(\u001b[0m\u001b[1;34m'~'\u001b[0m\u001b[1;33m.\u001b[0m\u001b[0mjoin\u001b[0m\u001b[1;33m(\u001b[0m\u001b[0ml\u001b[0m\u001b[1;33m)\u001b[0m\u001b[1;33m)\u001b[0m\u001b[1;33m\u001b[0m\u001b[1;33m\u001b[0m\u001b[0m\n\u001b[0m",
      "\u001b[1;31mTypeError\u001b[0m: sequence item 0: expected str instance, tuple found"
     ]
    }
   ],
   "source": []
  },
  {
   "cell_type": "code",
   "execution_count": 132,
   "id": "610efd50",
   "metadata": {},
   "outputs": [],
   "source": [
    "from collections import OrderedDict"
   ]
  },
  {
   "cell_type": "code",
   "execution_count": 135,
   "id": "a7a0927b",
   "metadata": {},
   "outputs": [
    {
     "name": "stdout",
     "output_type": "stream",
     "text": [
      "[2, 3, 1, 7, 4]\n"
     ]
    }
   ],
   "source": [
    "a=[2,3,1,7,4]\n",
    "print(a)"
   ]
  },
  {
   "cell_type": "code",
   "execution_count": 136,
   "id": "bf9dfa40",
   "metadata": {},
   "outputs": [
    {
     "name": "stdout",
     "output_type": "stream",
     "text": [
      "[1, 2, 3, 4, 7]\n"
     ]
    }
   ],
   "source": [
    "a.sort()\n",
    "print(a)"
   ]
  },
  {
   "cell_type": "code",
   "execution_count": 138,
   "id": "0eb9b908",
   "metadata": {},
   "outputs": [
    {
     "name": "stdout",
     "output_type": "stream",
     "text": [
      "[7, 4, 3, 2, 1]\n"
     ]
    }
   ],
   "source": [
    "a.sort(reverse=True)\n",
    "print(a)"
   ]
  },
  {
   "cell_type": "code",
   "execution_count": 139,
   "id": "a936ff6d",
   "metadata": {},
   "outputs": [
    {
     "name": "stdout",
     "output_type": "stream",
     "text": [
      "[2, 3, 1, 7, 4]\n",
      "[1, 2, 3, 4, 7]\n"
     ]
    }
   ],
   "source": [
    "a=[2,3,1,7,4]\n",
    "b=sorted(a)\n",
    "print(a)\n",
    "print(b)"
   ]
  },
  {
   "cell_type": "code",
   "execution_count": 141,
   "id": "55c89e7c",
   "metadata": {},
   "outputs": [],
   "source": [
    "def f1(x):\n",
    "    return x*x\n"
   ]
  },
  {
   "cell_type": "code",
   "execution_count": 142,
   "id": "e4379d1e",
   "metadata": {},
   "outputs": [
    {
     "name": "stdout",
     "output_type": "stream",
     "text": [
      "100\n"
     ]
    }
   ],
   "source": [
    "print(f1(10))"
   ]
  },
  {
   "cell_type": "code",
   "execution_count": 143,
   "id": "88b20ae2",
   "metadata": {},
   "outputs": [
    {
     "name": "stdout",
     "output_type": "stream",
     "text": [
      "100\n"
     ]
    }
   ],
   "source": [
    "f=lambda x:x*x\n",
    "print(f(10))"
   ]
  },
  {
   "cell_type": "code",
   "execution_count": 153,
   "id": "2dafa004",
   "metadata": {},
   "outputs": [
    {
     "name": "stdout",
     "output_type": "stream",
     "text": [
      "[1, 2, 3, 4, 5, 6, 7, 8, 9]\n"
     ]
    }
   ],
   "source": [
    "l=list(filter(lambda x:x*x,range(10)))\n",
    "print(l)"
   ]
  },
  {
   "cell_type": "code",
   "execution_count": 241,
   "id": "dbfd56bd",
   "metadata": {},
   "outputs": [
    {
     "name": "stdout",
     "output_type": "stream",
     "text": [
      "{'x': 100, 'y': 200, 'z': 300, 'a': 400}\n"
     ]
    }
   ],
   "source": [
    "d= dict()\n",
    "d['x']=100\n",
    "d['y']=200\n",
    "d['z']=300\n",
    "d['a']=400\n",
    "print(d)"
   ]
  },
  {
   "cell_type": "code",
   "execution_count": 242,
   "id": "c4f128cb",
   "metadata": {},
   "outputs": [
    {
     "name": "stdout",
     "output_type": "stream",
     "text": [
      "<class 'dict_items'>\n",
      "dict_items([('x', 100), ('y', 200), ('z', 300), ('a', 400)])\n",
      "x\n",
      "100\n"
     ]
    }
   ],
   "source": [
    "print(type(d.items()))\n",
    "print(d.items())\n",
    "a,b,c,d = d.items()\n",
    "print(a[0])\n",
    "print(a[1])\n",
    "   "
   ]
  },
  {
   "cell_type": "code",
   "execution_count": 201,
   "id": "b5cf83e5",
   "metadata": {},
   "outputs": [
    {
     "name": "stdout",
     "output_type": "stream",
     "text": [
      "OrderedDict([('yellow', [1, 3]), ('red', [1]), ('blue', [2, 4])])\n",
      "<class 'collections.OrderedDict'>\n"
     ]
    }
   ],
   "source": [
    "od=OrderedDict(sorted(d.items(),key=lambda x:x[0],reverse=True))\n",
    "print(od)\n",
    "print(type(od))"
   ]
  },
  {
   "cell_type": "code",
   "execution_count": 187,
   "id": "3bae3b41",
   "metadata": {},
   "outputs": [],
   "source": [
    "s=[('yellow',1),('blue',2),('yellow',3),('blue',4),('red',1)]"
   ]
  },
  {
   "cell_type": "code",
   "execution_count": 175,
   "id": "ab33beee",
   "metadata": {},
   "outputs": [],
   "source": [
    "# d={'yellow':[1,3],'blue':[2,4],'red':[1]}"
   ]
  },
  {
   "cell_type": "code",
   "execution_count": 188,
   "id": "4f1e1fdd",
   "metadata": {},
   "outputs": [
    {
     "name": "stdout",
     "output_type": "stream",
     "text": [
      "{'yellow': [1, 3], 'blue': [2, 4], 'red': [1]}\n"
     ]
    }
   ],
   "source": [
    "d=dict()\n",
    "for k,v in s:\n",
    "    try:\n",
    "        d[k].append(v)\n",
    "    except KeyError:\n",
    "        d[k]=list()\n",
    "        d[k].append(v)\n",
    "    \n",
    "print(d)"
   ]
  },
  {
   "cell_type": "code",
   "execution_count": 189,
   "id": "79362022",
   "metadata": {},
   "outputs": [
    {
     "name": "stdout",
     "output_type": "stream",
     "text": [
      "defaultdict(<class 'list'>, {'yellow': [1, 3], 'blue': [2, 4], 'red': [1]})\n"
     ]
    }
   ],
   "source": [
    "from collections import defaultdict\n",
    "d2=defaultdict(list)\n",
    "\n",
    "for k,v in s:\n",
    "    d2[k].append(v)\n",
    "print(d2)\n"
   ]
  },
  {
   "cell_type": "code",
   "execution_count": 190,
   "id": "26790d37",
   "metadata": {},
   "outputs": [
    {
     "name": "stdout",
     "output_type": "stream",
     "text": [
      "[]\n"
     ]
    }
   ],
   "source": [
    "print(d2['brown'])"
   ]
  },
  {
   "cell_type": "code",
   "execution_count": 193,
   "id": "69d9623c",
   "metadata": {},
   "outputs": [
    {
     "name": "stdout",
     "output_type": "stream",
     "text": [
      "Counter({'s': 2, 'i': 2, 't': 2, 'c': 1, 'e': 1, 'n': 1})\n"
     ]
    }
   ],
   "source": [
    "from collections import Counter\n",
    "c=Counter('scientist')\n",
    "print(c)"
   ]
  },
  {
   "cell_type": "code",
   "execution_count": 195,
   "id": "9b0d65c4",
   "metadata": {},
   "outputs": [
    {
     "name": "stdout",
     "output_type": "stream",
     "text": [
      "1\n"
     ]
    }
   ],
   "source": [
    "print(c['c'])"
   ]
  },
  {
   "cell_type": "code",
   "execution_count": 215,
   "id": "d0c0e177",
   "metadata": {},
   "outputs": [],
   "source": [
    "text = \"\"\"A press release is the quickest and easiest way to get free publicity. If\n",
    " well written, a press release can result in multiple published articles about your \n",
    "firm and its products. And that can mean new prospects contacting you \n",
    "asking you to sell to them. ….\"\"\".lower().split()\n"
   ]
  },
  {
   "cell_type": "code",
   "execution_count": 216,
   "id": "9e283bed",
   "metadata": {},
   "outputs": [
    {
     "name": "stdout",
     "output_type": "stream",
     "text": [
      "publicity.\n"
     ]
    }
   ],
   "source": [
    "print(text[12])"
   ]
  },
  {
   "cell_type": "code",
   "execution_count": 217,
   "id": "ba2321a8",
   "metadata": {},
   "outputs": [
    {
     "name": "stdout",
     "output_type": "stream",
     "text": [
      "defaultdict(<function <lambda> at 0x0000018A6E8C0C10>, {'a': 2, 'press': 2, 'release': 2, 'is': 1, 'the': 1, 'quickest': 1, 'and': 3, 'easiest': 1, 'way': 1, 'to': 3, 'get': 1, 'free': 1, 'publicity.': 1, 'if': 1, 'well': 1, 'written,': 1, 'can': 2, 'result': 1, 'in': 1, 'multiple': 1, 'published': 1, 'articles': 1, 'about': 1, 'your': 1, 'firm': 1, 'its': 1, 'products.': 1, 'that': 1, 'mean': 1, 'new': 1, 'prospects': 1, 'contacting': 1, 'you': 2, 'asking': 1, 'sell': 1, 'them.': 1, '….': 1})\n"
     ]
    }
   ],
   "source": [
    "word_count=defaultdict(lambda:0)\n",
    "for word in text:\n",
    "    word_count[word]+=1\n",
    "print(word_count)"
   ]
  },
  {
   "cell_type": "code",
   "execution_count": null,
   "id": "76bb42be",
   "metadata": {},
   "outputs": [],
   "source": []
  },
  {
   "cell_type": "code",
   "execution_count": 246,
   "id": "78010f3c",
   "metadata": {},
   "outputs": [
    {
     "name": "stdout",
     "output_type": "stream",
     "text": [
      "and 3\n",
      "to 3\n",
      "a 2\n",
      "press 2\n",
      "release 2\n",
      "can 2\n",
      "you 2\n",
      "is 1\n",
      "the 1\n",
      "quickest 1\n",
      "easiest 1\n",
      "way 1\n",
      "get 1\n",
      "free 1\n",
      "publicity. 1\n",
      "if 1\n",
      "well 1\n",
      "written, 1\n",
      "result 1\n",
      "in 1\n",
      "multiple 1\n",
      "published 1\n",
      "articles 1\n",
      "about 1\n",
      "your 1\n",
      "firm 1\n",
      "its 1\n",
      "products. 1\n",
      "that 1\n",
      "mean 1\n",
      "new 1\n",
      "prospects 1\n",
      "contacting 1\n",
      "asking 1\n",
      "sell 1\n",
      "them. 1\n",
      "…. 1\n"
     ]
    }
   ],
   "source": [
    "\n",
    "od=OrderedDict(sorted(word_count.items(),key=lambda t:t[1],reverse=True))\n",
    "\n",
    "for k,v in od.items():\n",
    "    print(k,v)"
   ]
  },
  {
   "cell_type": "code",
   "execution_count": 267,
   "id": "8cec5443",
   "metadata": {},
   "outputs": [],
   "source": [
    "from collections import defaultdict"
   ]
  },
  {
   "cell_type": "code",
   "execution_count": 271,
   "id": "4e331d36",
   "metadata": {},
   "outputs": [
    {
     "name": "stdout",
     "output_type": "stream",
     "text": [
      "defaultdict(<class 'int'>, {'d': 2, 'o': 2, 'n': 2, 't': 2, 'g': 1, 'f': 1, 'a': 1, 'h': 1, 'e': 1, 'r': 1})\n"
     ]
    }
   ],
   "source": [
    "letters=\"dontdongfather\"\n",
    "letters_dict=defaultdict(int)\n",
    "for k in letters :\n",
    "    letters_dict[k]+=1\n",
    "print(letters_dict)\n"
   ]
  },
  {
   "cell_type": "code",
   "execution_count": 272,
   "id": "266450e1",
   "metadata": {},
   "outputs": [
    {
     "name": "stdout",
     "output_type": "stream",
     "text": [
      "{'d': 2, 'o': 2, 'n': 2, 't': 2, 'g': 1, 'f': 1, 'a': 1, 'h': 1, 'e': 1, 'r': 1}\n"
     ]
    }
   ],
   "source": [
    "letters = \"dontdongfather\"\n",
    "letters_dict = {}\n",
    "for k in letters :\n",
    "    if not k in letters_dict:\n",
    "        letters_dict[k] = 0\n",
    "    letters_dict[k] += 1\n",
    "\n",
    "print(letters_dict)\n",
    "# {'d': 2, 'o': 2, 'n': 2, 't': 2, 'g': 1, 'f': 1, 'a': 1, 'h': 1, 'e': 1, 'r': 1}"
   ]
  },
  {
   "cell_type": "code",
   "execution_count": 278,
   "id": "25fad68a",
   "metadata": {},
   "outputs": [],
   "source": [
    "from collections import defaultdict"
   ]
  },
  {
   "cell_type": "code",
   "execution_count": 279,
   "id": "76530694",
   "metadata": {},
   "outputs": [
    {
     "ename": "TypeError",
     "evalue": "first argument must be callable or None",
     "output_type": "error",
     "traceback": [
      "\u001b[1;31m---------------------------------------------------------------------------\u001b[0m",
      "\u001b[1;31mTypeError\u001b[0m                                 Traceback (most recent call last)",
      "\u001b[1;32m~\\AppData\\Local\\Temp/ipykernel_9616/3229908738.py\u001b[0m in \u001b[0;36m<module>\u001b[1;34m\u001b[0m\n\u001b[0;32m      1\u001b[0m \u001b[0mname_list\u001b[0m \u001b[1;33m=\u001b[0m \u001b[1;33m[\u001b[0m\u001b[1;33m(\u001b[0m\u001b[1;34m'kim'\u001b[0m\u001b[1;33m,\u001b[0m \u001b[1;34m'yuna'\u001b[0m\u001b[1;33m)\u001b[0m\u001b[1;33m,\u001b[0m \u001b[1;33m(\u001b[0m\u001b[1;34m'kang'\u001b[0m\u001b[1;33m,\u001b[0m \u001b[1;34m'jinho'\u001b[0m\u001b[1;33m)\u001b[0m\u001b[1;33m,\u001b[0m \u001b[1;33m(\u001b[0m\u001b[1;34m'kim'\u001b[0m\u001b[1;33m,\u001b[0m \u001b[1;34m'dongkyu'\u001b[0m\u001b[1;33m)\u001b[0m\u001b[1;33m,\u001b[0m \u001b[1;33m(\u001b[0m\u001b[1;34m'sung'\u001b[0m\u001b[1;33m,\u001b[0m\u001b[1;34m'yelin'\u001b[0m\u001b[1;33m)\u001b[0m\u001b[1;33m,\u001b[0m \u001b[1;33m(\u001b[0m\u001b[1;34m'go'\u001b[0m\u001b[1;33m,\u001b[0m\u001b[1;34m'youchan'\u001b[0m\u001b[1;33m)\u001b[0m\u001b[1;33m,\u001b[0m \u001b[1;33m(\u001b[0m\u001b[1;34m'kim'\u001b[0m\u001b[1;33m,\u001b[0m \u001b[1;34m'yuna'\u001b[0m\u001b[1;33m)\u001b[0m\u001b[1;33m]\u001b[0m\u001b[1;33m\u001b[0m\u001b[1;33m\u001b[0m\u001b[0m\n\u001b[1;32m----> 2\u001b[1;33m \u001b[0mndict2\u001b[0m \u001b[1;33m=\u001b[0m \u001b[0mdefaultdict\u001b[0m\u001b[1;33m(\u001b[0m\u001b[0mlist\u001b[0m\u001b[1;33m)\u001b[0m\u001b[1;33m\u001b[0m\u001b[1;33m\u001b[0m\u001b[0m\n\u001b[0m\u001b[0;32m      3\u001b[0m \u001b[1;32mfor\u001b[0m \u001b[0mk\u001b[0m\u001b[1;33m,\u001b[0m \u001b[0mv\u001b[0m \u001b[1;32min\u001b[0m \u001b[0mname_list\u001b[0m\u001b[1;33m:\u001b[0m\u001b[1;33m\u001b[0m\u001b[1;33m\u001b[0m\u001b[0m\n\u001b[0;32m      4\u001b[0m     \u001b[0mndict2\u001b[0m\u001b[1;33m[\u001b[0m\u001b[0mk\u001b[0m\u001b[1;33m]\u001b[0m\u001b[1;33m.\u001b[0m\u001b[0mappend\u001b[0m\u001b[1;33m(\u001b[0m\u001b[0mv\u001b[0m\u001b[1;33m)\u001b[0m\u001b[1;33m\u001b[0m\u001b[1;33m\u001b[0m\u001b[0m\n\u001b[0;32m      5\u001b[0m \u001b[0mprint\u001b[0m\u001b[1;33m(\u001b[0m\u001b[0mndict2\u001b[0m\u001b[1;33m)\u001b[0m\u001b[1;33m\u001b[0m\u001b[1;33m\u001b[0m\u001b[0m\n",
      "\u001b[1;31mTypeError\u001b[0m: first argument must be callable or None"
     ]
    }
   ],
   "source": [
    "name_list = [('kim', 'yuna'), ('kang', 'jinho'), ('kim', 'dongkyu'), ('sung','yelin'), ('go','youchan'), ('kim', 'yuna')]\n",
    "ndict2 = defaultdict(list)\n",
    "for k, v in name_list:\n",
    "    ndict2[k].append(v)\n",
    "print(ndict2)"
   ]
  },
  {
   "cell_type": "code",
   "execution_count": null,
   "id": "7e2e904e",
   "metadata": {},
   "outputs": [],
   "source": []
  }
 ],
 "metadata": {
  "kernelspec": {
   "display_name": "Python 3 (ipykernel)",
   "language": "python",
   "name": "python3"
  },
  "language_info": {
   "codemirror_mode": {
    "name": "ipython",
    "version": 3
   },
   "file_extension": ".py",
   "mimetype": "text/x-python",
   "name": "python",
   "nbconvert_exporter": "python",
   "pygments_lexer": "ipython3",
   "version": "3.9.7"
  }
 },
 "nbformat": 4,
 "nbformat_minor": 5
}
