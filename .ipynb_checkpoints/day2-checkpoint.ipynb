{
 "cells": [
  {
   "cell_type": "code",
   "execution_count": 4,
   "id": "abaebfde",
   "metadata": {},
   "outputs": [],
   "source": [
    "from collections import defaultdict"
   ]
  },
  {
   "cell_type": "code",
   "execution_count": 5,
   "id": "c0cd78c6",
   "metadata": {},
   "outputs": [],
   "source": [
    "from collections import OrderedDict"
   ]
  },
  {
   "cell_type": "code",
   "execution_count": 8,
   "id": "281f94a2",
   "metadata": {},
   "outputs": [
    {
     "name": "stdout",
     "output_type": "stream",
     "text": [
      "{'x': 100, 'y': 200, 'z': 300}\n"
     ]
    }
   ],
   "source": [
    "d=dict()\n",
    "d['x']=100\n",
    "d['y']=200\n",
    "d['z']=300\n",
    "print(d)"
   ]
  },
  {
   "cell_type": "code",
   "execution_count": 16,
   "id": "b3a1e593",
   "metadata": {},
   "outputs": [
    {
     "name": "stdout",
     "output_type": "stream",
     "text": [
      "x\n",
      "100\n",
      "('x', 100)\n"
     ]
    }
   ],
   "source": [
    "a,b,c=(d.items())\n",
    "print(a[0])\n",
    "print(a[1])\n",
    "print(a)\n"
   ]
  },
  {
   "cell_type": "code",
   "execution_count": 18,
   "id": "65c55104",
   "metadata": {},
   "outputs": [
    {
     "name": "stdout",
     "output_type": "stream",
     "text": [
      "OrderedDict([('z', 300), ('y', 200), ('x', 100)])\n"
     ]
    }
   ],
   "source": [
    "# OrderedDict은 정렬된 딕셔너리를 만들때 사용한다.\n",
    "od=OrderedDict(sorted(d.items(),reverse=True))\n",
    "print(od)"
   ]
  },
  {
   "cell_type": "code",
   "execution_count": 20,
   "id": "84eafcec",
   "metadata": {},
   "outputs": [
    {
     "name": "stdout",
     "output_type": "stream",
     "text": [
      "defaultdict(<class 'list'>, {'yellow': [1, 3], 'blue': [2]})\n"
     ]
    }
   ],
   "source": [
    "s=[('yellow',1),('blue',2),('yellow',3)]\n",
    "d2=defaultdict(list)\n",
    "for k,v in s:\n",
    "    d2[k].append(v)\n",
    "print(d2)"
   ]
  },
  {
   "cell_type": "code",
   "execution_count": 4,
   "id": "8c780c8c",
   "metadata": {},
   "outputs": [
    {
     "name": "stdout",
     "output_type": "stream",
     "text": [
      "[('a', '1', '!'), ('b', '2', '@'), ('c', '3', '#')]\n"
     ]
    }
   ],
   "source": [
    "print(list(zip(\"abc\",\"123\",\"!@#\")))"
   ]
  },
  {
   "cell_type": "code",
   "execution_count": 6,
   "id": "022465e0",
   "metadata": {},
   "outputs": [
    {
     "name": "stdout",
     "output_type": "stream",
     "text": [
      "[2, 4, 6]\n"
     ]
    }
   ],
   "source": [
    "def 곱하기둘(x):\n",
    "    return x*2\n",
    "sample=[1,2,3]\n",
    "print(list(map(곱하기둘,sample)))"
   ]
  },
  {
   "cell_type": "code",
   "execution_count": 13,
   "id": "1ca698e8",
   "metadata": {},
   "outputs": [
    {
     "name": "stdout",
     "output_type": "stream",
     "text": [
      "[6, 7, 8, 9]\n",
      "[6, 7, 8, 9]\n"
     ]
    }
   ],
   "source": [
    "print(list(filter(lambda x:x>5, range(10))))\n"
   ]
  },
  {
   "cell_type": "code",
   "execution_count": 18,
   "id": "d8d3be4f",
   "metadata": {},
   "outputs": [
    {
     "name": "stdout",
     "output_type": "stream",
     "text": [
      "1 10\n",
      "2 20\n",
      "3 30\n"
     ]
    }
   ],
   "source": [
    "y=[10,20,30]\n",
    "for i ,j in enumerate(y,1):\n",
    "    print(i,j)"
   ]
  },
  {
   "cell_type": "code",
   "execution_count": 22,
   "id": "1d0952f2",
   "metadata": {},
   "outputs": [
    {
     "name": "stdout",
     "output_type": "stream",
     "text": [
      "0 A\n",
      "1 B\n",
      "2 C\n",
      "0 A\n",
      "1 B\n",
      "2 C\n"
     ]
    }
   ],
   "source": [
    "letters=['A','B','C']\n",
    "for i in range(len(letters)):\n",
    "    letter=letters[i]\n",
    "    print(i,letter)\n",
    "    \n",
    "for i,letter in enumerate(letters):\n",
    "    print(i,letter)"
   ]
  },
  {
   "cell_type": "code",
   "execution_count": 27,
   "id": "2bf72553",
   "metadata": {},
   "outputs": [
    {
     "name": "stdout",
     "output_type": "stream",
     "text": [
      "['__add__', '__class__', '__class_getitem__', '__contains__', '__delattr__', '__delitem__', '__dir__', '__doc__', '__eq__', '__format__', '__ge__', '__getattribute__', '__getitem__', '__gt__', '__hash__', '__iadd__', '__imul__', '__init__', '__init_subclass__', '__iter__', '__le__', '__len__', '__lt__', '__mul__', '__ne__', '__new__', '__reduce__', '__reduce_ex__', '__repr__', '__reversed__', '__rmul__', '__setattr__', '__setitem__', '__sizeof__', '__str__', '__subclasshook__', 'append', 'clear', 'copy', 'count', 'extend', 'index', 'insert', 'pop', 'remove', 'reverse', 'sort']\n"
     ]
    }
   ],
   "source": [
    "print(dir(list))"
   ]
  },
  {
   "cell_type": "code",
   "execution_count": 33,
   "id": "feebc7be",
   "metadata": {},
   "outputs": [
    {
     "name": "stdout",
     "output_type": "stream",
     "text": [
      "[0, 1, 2, 3, 4, 5, 6, 7, 8, 9]\n"
     ]
    }
   ],
   "source": [
    "result=[]\n",
    "for i in range(10):\n",
    "    result.append(i)\n",
    "print(result)"
   ]
  },
  {
   "cell_type": "code",
   "execution_count": 34,
   "id": "d79a6905",
   "metadata": {},
   "outputs": [
    {
     "name": "stdout",
     "output_type": "stream",
     "text": [
      "[0, 1, 2, 3, 4, 5, 6, 7, 8, 9]\n"
     ]
    }
   ],
   "source": [
    "result= [i for i in range(10)]\n",
    "print(result)\n"
   ]
  },
  {
   "cell_type": "code",
   "execution_count": 35,
   "id": "10a65ac8",
   "metadata": {},
   "outputs": [
    {
     "name": "stdout",
     "output_type": "stream",
     "text": [
      "[0, 2, 4, 6, 8]\n"
     ]
    }
   ],
   "source": [
    "result=[]\n",
    "for i in range(10):\n",
    "    if i%2==0:\n",
    "        result.append(i)\n",
    "print(result)\n",
    "        "
   ]
  },
  {
   "cell_type": "code",
   "execution_count": 37,
   "id": "2bfcc629",
   "metadata": {},
   "outputs": [
    {
     "name": "stdout",
     "output_type": "stream",
     "text": [
      "[0, 2, 4, 6, 8]\n"
     ]
    }
   ],
   "source": [
    "result2=[i for i in range(10) if i%2==0]\n",
    "print(result2)"
   ]
  },
  {
   "cell_type": "code",
   "execution_count": 39,
   "id": "c0ca386f",
   "metadata": {},
   "outputs": [
    {
     "name": "stdout",
     "output_type": "stream",
     "text": [
      "{'강진호': 1, '호진호': 2, '헤이': 3}\n"
     ]
    }
   ],
   "source": [
    "d={'강진호':1,'호진호':2}\n",
    "d['헤이']=3\n",
    "print(d)"
   ]
  },
  {
   "cell_type": "raw",
   "id": "438bcf1e",
   "metadata": {},
   "source": []
  },
  {
   "cell_type": "code",
   "execution_count": 41,
   "id": "bf9fd1d8",
   "metadata": {},
   "outputs": [
    {
     "name": "stdout",
     "output_type": "stream",
     "text": [
      "[0, 1, 2, 3, 4, 5, 6, 7, 8, 9]\n"
     ]
    }
   ],
   "source": [
    "result=[]\n",
    "for i in range(10):\n",
    "    if i%2==0:\n",
    "        result.append(i)\n",
    "    else:\n",
    "        result.append(i)\n",
    "        \n",
    "print(result)\n",
    "        "
   ]
  },
  {
   "cell_type": "code",
   "execution_count": 47,
   "id": "dc017e7b",
   "metadata": {},
   "outputs": [
    {
     "name": "stdout",
     "output_type": "stream",
     "text": [
      "[0, 1, 2, 3, 4, 5, 6, 7, 8, 9]\n"
     ]
    }
   ],
   "source": [
    "result2=[i if i%2==0 else i for i in range(10)]\n",
    "print(result2)"
   ]
  },
  {
   "cell_type": "code",
   "execution_count": 48,
   "id": "54dee049",
   "metadata": {},
   "outputs": [
    {
     "name": "stdout",
     "output_type": "stream",
     "text": [
      "['HW', 'Ho', 'Hr', 'Hl', 'Hd', 'eW', 'eo', 'er', 'el', 'ed', 'lW', 'lo', 'lr', 'll', 'ld', 'lW', 'lo', 'lr', 'll', 'ld', 'oW', 'oo', 'or', 'ol', 'od']\n"
     ]
    }
   ],
   "source": [
    "word1=\"Hello\"\n",
    "word2=\"World\"\n",
    "result=[]\n",
    "for i in word1:\n",
    "    for j in word2:\n",
    "        result.append(i+j)\n",
    "print(result)"
   ]
  },
  {
   "cell_type": "code",
   "execution_count": 55,
   "id": "942fde17",
   "metadata": {},
   "outputs": [
    {
     "name": "stdout",
     "output_type": "stream",
     "text": [
      "['HW', 'Ho', 'Hr', 'Hl', 'Hd', 'eW', 'eo', 'er', 'el', 'ed', 'lW', 'lo', 'lr', 'll', 'ld', 'lW', 'lo', 'lr', 'll', 'ld', 'oW', 'oo', 'or', 'ol', 'od']\n"
     ]
    }
   ],
   "source": [
    "word1=\"Hello\"\n",
    "word2=\"World\"\n",
    "result2=[i+j for i in word1 for j in word2]\n",
    "print(result2)"
   ]
  },
  {
   "cell_type": "code",
   "execution_count": 56,
   "id": "5ef0f28b",
   "metadata": {},
   "outputs": [
    {
     "name": "stdout",
     "output_type": "stream",
     "text": [
      "['AB', 'AC', 'BA', 'BC', 'CA', 'CB']\n"
     ]
    }
   ],
   "source": [
    "case1=['A','B','C']\n",
    "case2=['A','B','C']\n",
    "result=[]\n",
    "for i in case1:\n",
    "    for j in case2:\n",
    "        if i!=j:\n",
    "            result.append(i+j)\n",
    "print(result)"
   ]
  },
  {
   "cell_type": "code",
   "execution_count": 64,
   "id": "87112aaf",
   "metadata": {},
   "outputs": [
    {
     "name": "stdout",
     "output_type": "stream",
     "text": [
      "['AB', 'AC', 'BA', 'BC', 'CA', 'CB']\n"
     ]
    }
   ],
   "source": [
    "case1=['A','B','C']\n",
    "case2=['A','B','C']\n",
    "result2=[i+j for i in case1 for j in case2  if i!=j]\n",
    "print(result2)"
   ]
  },
  {
   "cell_type": "code",
   "execution_count": 71,
   "id": "3b60fad9",
   "metadata": {},
   "outputs": [
    {
     "name": "stdout",
     "output_type": "stream",
     "text": [
      "[['AD', 'BD', 'CD'], ['AE', 'BE', 'CE'], ['AF', 'BF', 'CF']]\n"
     ]
    }
   ],
   "source": [
    "case1=['A','B','C']\n",
    "case2=['D','E','F']\n",
    "result=[[i+j for i in case1] for j in case2]\n",
    "print(result)"
   ]
  },
  {
   "cell_type": "code",
   "execution_count": 72,
   "id": "d1976553",
   "metadata": {},
   "outputs": [
    {
     "name": "stdout",
     "output_type": "stream",
     "text": [
      "tic\n",
      "tac\n",
      "toe\n"
     ]
    }
   ],
   "source": [
    "for v in ['tic','tac','toe']:\n",
    "    print(v)"
   ]
  },
  {
   "cell_type": "code",
   "execution_count": 74,
   "id": "e719033e",
   "metadata": {},
   "outputs": [
    {
     "name": "stdout",
     "output_type": "stream",
     "text": [
      "0 tic\n",
      "1 tac\n",
      "2 toe\n"
     ]
    }
   ],
   "source": [
    "for i, v in enumerate(['tic','tac','toe']):\n",
    "    print(i,v)"
   ]
  },
  {
   "cell_type": "code",
   "execution_count": 75,
   "id": "0c70923e",
   "metadata": {},
   "outputs": [
    {
     "name": "stdout",
     "output_type": "stream",
     "text": [
      "a1 b1\n",
      "a2 b2\n",
      "a3 b3\n"
     ]
    }
   ],
   "source": [
    "alist=['a1','a2','a3']\n",
    "blist=['b1','b2','b3','b4']\n",
    "for a,b in zip(alist,blist):\n",
    "    print(a,b)"
   ]
  },
  {
   "cell_type": "code",
   "execution_count": 81,
   "id": "4479a0d2",
   "metadata": {},
   "outputs": [
    {
     "name": "stdout",
     "output_type": "stream",
     "text": [
      "<class 'zip'>\n",
      "[('a1', 'b1'), ('a2', 'b2'), ('a3', 'b3')]\n"
     ]
    }
   ],
   "source": [
    "l=list(zip(alist,blist))\n",
    "print(type(zip(alist,blist)))\n",
    "print(l)"
   ]
  },
  {
   "cell_type": "code",
   "execution_count": 80,
   "id": "15e68eed",
   "metadata": {},
   "outputs": [
    {
     "name": "stdout",
     "output_type": "stream",
     "text": [
      "(1, 10, 100) (2, 20, 200) (3, 30, 300)\n",
      "<class 'tuple'>\n"
     ]
    }
   ],
   "source": [
    "a,b,c=zip((1,2,3),(10,20,30),(100,200,300))\n",
    "print(a,b,c)\n",
    "print(type(a))"
   ]
  },
  {
   "cell_type": "code",
   "execution_count": 82,
   "id": "781e3f14",
   "metadata": {},
   "outputs": [
    {
     "name": "stdout",
     "output_type": "stream",
     "text": [
      "[285, 270, 285]\n"
     ]
    }
   ],
   "source": [
    "kor=[90,95,100]\n",
    "eng=[95,80,95]\n",
    "math=[100,95,90]\n",
    "result=[sum(x) for x in zip(kor,eng,math)]\n",
    "print(result)"
   ]
  },
  {
   "cell_type": "code",
   "execution_count": 89,
   "id": "6e2c4cdd",
   "metadata": {},
   "outputs": [
    {
     "name": "stdout",
     "output_type": "stream",
     "text": [
      "[0, 1, 2, 3, 4, 5, 6, 7, 8, 9]\n"
     ]
    }
   ],
   "source": [
    "print(list(filter(lambda x:x**x,range(10))))"
   ]
  },
  {
   "cell_type": "code",
   "execution_count": 90,
   "id": "cf0344aa",
   "metadata": {},
   "outputs": [
    {
     "name": "stdout",
     "output_type": "stream",
     "text": [
      "[1, 1, 4, 27, 256, 3125, 46656, 823543, 16777216, 387420489]\n"
     ]
    }
   ],
   "source": [
    "l=[i**i for i in range(10)]\n",
    "print(l)"
   ]
  },
  {
   "cell_type": "code",
   "execution_count": 98,
   "id": "48e16112",
   "metadata": {},
   "outputs": [
    {
     "name": "stdout",
     "output_type": "stream",
     "text": [
      "[0, 1, 2, 3, 4, 5, 6, 7, 8, 9]\n"
     ]
    }
   ],
   "source": [
    "print(list(i for i in range(10)))"
   ]
  },
  {
   "cell_type": "code",
   "execution_count": null,
   "id": "21bf2526",
   "metadata": {},
   "outputs": [],
   "source": []
  },
  {
   "cell_type": "code",
   "execution_count": 118,
   "id": "1cdae822",
   "metadata": {},
   "outputs": [],
   "source": [
    "class SoccerPlayer:\n",
    "    def __init__(self,name,position, back_number):\n",
    "        #self.name 은 클래스의 로컬변수 자바에서는 필드라고 함.\n",
    "        self.name=name\n",
    "        self.position=position\n",
    "        self.back_number=back_number\n",
    "        \n",
    "    def change_back_number(self,new_number):\n",
    "        print(\"선수 등번호 변경: From %d to %d \" %(self.back_number,new_number))\n",
    "        self.back_number=new_number\n",
    "        \n",
    "    def __str__(self):\n",
    "        return \"Hello, My name is %s, I play in %s in center. \" \\\n",
    "    %(self.name,self.position)\n",
    "        \n",
    "        \n",
    "        \n",
    "        \n",
    "        \n",
    "        \n",
    "        \n",
    "        \n",
    "        "
   ]
  },
  {
   "cell_type": "code",
   "execution_count": 120,
   "id": "546d48d3",
   "metadata": {},
   "outputs": [
    {
     "name": "stdout",
     "output_type": "stream",
     "text": [
      "11\n",
      "선수 등번호 변경: From 11 to 9 \n"
     ]
    }
   ],
   "source": [
    "chaboom=SoccerPlayer(\"Chaboom\",\"CF\",11)\n",
    "print(chaboom.back_number)\n",
    "chaboom.change_back_number(9)"
   ]
  },
  {
   "cell_type": "code",
   "execution_count": 121,
   "id": "3903c507",
   "metadata": {},
   "outputs": [
    {
     "name": "stdout",
     "output_type": "stream",
     "text": [
      "Hello, My name is Chaboom, I play in CF in center. \n"
     ]
    }
   ],
   "source": [
    "print(chaboom)"
   ]
  },
  {
   "cell_type": "code",
   "execution_count": 1,
   "id": "a4567843",
   "metadata": {},
   "outputs": [],
   "source": [
    "import fah_converter"
   ]
  },
  {
   "cell_type": "code",
   "execution_count": 3,
   "id": "543a96d8",
   "metadata": {},
   "outputs": [
    {
     "name": "stdout",
     "output_type": "stream",
     "text": [
      "Enter a celsis value:14\n",
      "57.2\n"
     ]
    }
   ],
   "source": [
    "celsius = float(input(\"Enter a celsis value:\"))\n",
    "fahrenheit = fah_converter.convert_to_f(celsius)\n",
    "print(fahrenheit)"
   ]
  },
  {
   "cell_type": "code",
   "execution_count": 4,
   "id": "00d11733",
   "metadata": {},
   "outputs": [],
   "source": [
    "import fah_converter as fah"
   ]
  },
  {
   "cell_type": "code",
   "execution_count": 8,
   "id": "285ba234",
   "metadata": {},
   "outputs": [
    {
     "name": "stdout",
     "output_type": "stream",
     "text": [
      "Enter a celsis value:14\n",
      "['__class__', '__delattr__', '__dict__', '__dir__', '__doc__', '__eq__', '__format__', '__ge__', '__getattribute__', '__gt__', '__hash__', '__init__', '__init_subclass__', '__le__', '__lt__', '__ne__', '__new__', '__reduce__', '__reduce_ex__', '__repr__', '__setattr__', '__sizeof__', '__str__', '__subclasshook__']\n",
      "57.2\n"
     ]
    }
   ],
   "source": [
    "celsius = float(input(\"Enter a celsis value:\"))\n",
    "fahrenheit = fah.convert_to_f(celsius)\n",
    "print(fahrenheit)"
   ]
  },
  {
   "cell_type": "code",
   "execution_count": 1,
   "id": "491fb715",
   "metadata": {},
   "outputs": [
    {
     "name": "stdout",
     "output_type": "stream",
     "text": [
      "86.0\n"
     ]
    }
   ],
   "source": [
    "from fah_converter import convert_to_f\n",
    "print(convert_to_f(30))"
   ]
  },
  {
   "cell_type": "code",
   "execution_count": 2,
   "id": "298472c1",
   "metadata": {},
   "outputs": [],
   "source": [
    "import time"
   ]
  },
  {
   "cell_type": "code",
   "execution_count": 3,
   "id": "ad752199",
   "metadata": {},
   "outputs": [
    {
     "name": "stdout",
     "output_type": "stream",
     "text": [
      "time.struct_time(tm_year=2022, tm_mon=2, tm_mday=22, tm_hour=11, tm_min=41, tm_sec=11, tm_wday=1, tm_yday=53, tm_isdst=0)\n"
     ]
    }
   ],
   "source": [
    "print(time.localtime())"
   ]
  },
  {
   "cell_type": "code",
   "execution_count": 6,
   "id": "b3f351a8",
   "metadata": {},
   "outputs": [
    {
     "name": "stdout",
     "output_type": "stream",
     "text": [
      "['E:\\\\source\\\\python', 'C:\\\\Users\\\\BIT\\\\anaconda3\\\\envs\\\\py38-env\\\\python39.zip', 'C:\\\\Users\\\\BIT\\\\anaconda3\\\\envs\\\\py38-env\\\\DLLs', 'C:\\\\Users\\\\BIT\\\\anaconda3\\\\envs\\\\py38-env\\\\lib', 'C:\\\\Users\\\\BIT\\\\anaconda3\\\\envs\\\\py38-env', '', 'C:\\\\Users\\\\BIT\\\\anaconda3\\\\envs\\\\py38-env\\\\lib\\\\site-packages', 'C:\\\\Users\\\\BIT\\\\anaconda3\\\\envs\\\\py38-env\\\\lib\\\\site-packages\\\\win32', 'C:\\\\Users\\\\BIT\\\\anaconda3\\\\envs\\\\py38-env\\\\lib\\\\site-packages\\\\win32\\\\lib', 'C:\\\\Users\\\\BIT\\\\anaconda3\\\\envs\\\\py38-env\\\\lib\\\\site-packages\\\\Pythonwin', 'C:\\\\Users\\\\BIT\\\\anaconda3\\\\envs\\\\py38-env\\\\lib\\\\site-packages\\\\IPython\\\\extensions', 'C:\\\\Users\\\\BIT\\\\.ipython']\n"
     ]
    }
   ],
   "source": [
    "import sys\n",
    "print(sys.path)"
   ]
  },
  {
   "cell_type": "code",
   "execution_count": 7,
   "id": "58f7262e",
   "metadata": {},
   "outputs": [],
   "source": [
    "sys.path.append(\"E:\\source\\python\\my_package\")\n"
   ]
  },
  {
   "cell_type": "code",
   "execution_count": 8,
   "id": "b6ee3c9a",
   "metadata": {},
   "outputs": [
    {
     "name": "stdout",
     "output_type": "stream",
     "text": [
      "['E:\\\\source\\\\python', 'C:\\\\Users\\\\BIT\\\\anaconda3\\\\envs\\\\py38-env\\\\python39.zip', 'C:\\\\Users\\\\BIT\\\\anaconda3\\\\envs\\\\py38-env\\\\DLLs', 'C:\\\\Users\\\\BIT\\\\anaconda3\\\\envs\\\\py38-env\\\\lib', 'C:\\\\Users\\\\BIT\\\\anaconda3\\\\envs\\\\py38-env', '', 'C:\\\\Users\\\\BIT\\\\anaconda3\\\\envs\\\\py38-env\\\\lib\\\\site-packages', 'C:\\\\Users\\\\BIT\\\\anaconda3\\\\envs\\\\py38-env\\\\lib\\\\site-packages\\\\win32', 'C:\\\\Users\\\\BIT\\\\anaconda3\\\\envs\\\\py38-env\\\\lib\\\\site-packages\\\\win32\\\\lib', 'C:\\\\Users\\\\BIT\\\\anaconda3\\\\envs\\\\py38-env\\\\lib\\\\site-packages\\\\Pythonwin', 'C:\\\\Users\\\\BIT\\\\anaconda3\\\\envs\\\\py38-env\\\\lib\\\\site-packages\\\\IPython\\\\extensions', 'C:\\\\Users\\\\BIT\\\\.ipython', 'E:\\\\source\\\\python\\\\my_package']\n"
     ]
    }
   ],
   "source": [
    "print(sys.path)"
   ]
  },
  {
   "cell_type": "code",
   "execution_count": 9,
   "id": "522de5c1",
   "metadata": {},
   "outputs": [
    {
     "name": "stdout",
     "output_type": "stream",
     "text": [
      "86.0\n"
     ]
    }
   ],
   "source": [
    "import fah_converter as fah\n",
    "print(fah.convert_to_f(30))"
   ]
  },
  {
   "cell_type": "code",
   "execution_count": 11,
   "id": "03203c12",
   "metadata": {},
   "outputs": [
    {
     "name": "stdout",
     "output_type": "stream",
     "text": [
      "['__add__', '__class__', '__class_getitem__', '__contains__', '__delattr__', '__delitem__', '__dir__', '__doc__', '__eq__', '__format__', '__ge__', '__getattribute__', '__getitem__', '__gt__', '__hash__', '__iadd__', '__imul__', '__init__', '__init_subclass__', '__iter__', '__le__', '__len__', '__lt__', '__mul__', '__ne__', '__new__', '__reduce__', '__reduce_ex__', '__repr__', '__reversed__', '__rmul__', '__setattr__', '__setitem__', '__sizeof__', '__str__', '__subclasshook__', 'append', 'clear', 'copy', 'count', 'extend', 'index', 'insert', 'pop', 'remove', 'reverse', 'sort']\n"
     ]
    }
   ],
   "source": [
    "print(dir(sys.path))"
   ]
  },
  {
   "cell_type": "code",
   "execution_count": 12,
   "id": "01c7161d",
   "metadata": {},
   "outputs": [
    {
     "name": "stdout",
     "output_type": "stream",
     "text": [
      "series\n"
     ]
    }
   ],
   "source": [
    "import sys\n",
    "sys.path.append(\"E:\\source\\python\\my_package\")\n",
    "\n",
    "import roboadvisor.analysis.series\n",
    "roboadvisor.analysis.series.series_test()"
   ]
  },
  {
   "cell_type": "code",
   "execution_count": 13,
   "id": "0edab4b8",
   "metadata": {},
   "outputs": [
    {
     "name": "stdout",
     "output_type": "stream",
     "text": [
      "series\n"
     ]
    }
   ],
   "source": [
    "import sys\n",
    "sys.path.append(\"E:\\source\\python\\my_package\")\n",
    "\n",
    "from roboadvisor.analysis import series as s\n",
    "s.series_test()"
   ]
  },
  {
   "cell_type": "code",
   "execution_count": 14,
   "id": "77691178",
   "metadata": {},
   "outputs": [
    {
     "name": "stdout",
     "output_type": "stream",
     "text": [
      "series\n"
     ]
    }
   ],
   "source": [
    "import sys\n",
    "sys.path.append(\"E:\\source\\python\\my_package\")\n",
    "from roboadvisor.analysis.series import series_test\n",
    "series_test()"
   ]
  },
  {
   "cell_type": "code",
   "execution_count": 15,
   "id": "095134cc",
   "metadata": {},
   "outputs": [
    {
     "name": "stdout",
     "output_type": "stream",
     "text": [
      "series\n"
     ]
    }
   ],
   "source": [
    "import sys\n",
    "sys.path.append(\"E:\\source\\python\\my_package\")\n",
    "import roboadvisor\n",
    "roboadvisor.analysis.series.series_test()"
   ]
  },
  {
   "cell_type": "code",
   "execution_count": 18,
   "id": "eea3f570",
   "metadata": {},
   "outputs": [
    {
     "name": "stdout",
     "output_type": "stream",
     "text": [
      "series\n"
     ]
    }
   ],
   "source": [
    "import sys\n",
    "sys.path.append(\"E:\\source\\python\\my_package\")\n",
    "from roboadvisor.analysis import *\n",
    "series.series_test()"
   ]
  },
  {
   "cell_type": "code",
   "execution_count": 19,
   "id": "72742086",
   "metadata": {},
   "outputs": [
    {
     "name": "stdout",
     "output_type": "stream",
     "text": [
      "parser\n"
     ]
    }
   ],
   "source": [
    "import sys\n",
    "sys.path.append(\"E:\\source\\python\\my_package\")\n",
    "from roboadvisor.crawling import *\n",
    "parser.parser_test()"
   ]
  },
  {
   "cell_type": "code",
   "execution_count": 22,
   "id": "26064fa7",
   "metadata": {},
   "outputs": [
    {
     "name": "stdout",
     "output_type": "stream",
     "text": [
      "connection\n"
     ]
    }
   ],
   "source": [
    "import sys\n",
    "sys.path.append(\"E:\\source\\python\\my_package\")\n",
    "from roboadvisor.database import *\n",
    "connection.connection_test()"
   ]
  },
  {
   "cell_type": "code",
   "execution_count": 1,
   "id": "e4fa23aa",
   "metadata": {},
   "outputs": [
    {
     "name": "stdout",
     "output_type": "stream",
     "text": [
      "series\n"
     ]
    }
   ],
   "source": [
    "import sys\n",
    "sys.path.append(\"E:\\source\\python\\my_package\")\n",
    "import roboadvisor\n",
    "roboadvisor.analysis.series.series_test()"
   ]
  },
  {
   "cell_type": "code",
   "execution_count": 4,
   "id": "f73c7db6",
   "metadata": {},
   "outputs": [
    {
     "name": "stdout",
     "output_type": "stream",
     "text": [
      "scrap\n",
      "connection\n"
     ]
    }
   ],
   "source": [
    "import sys\n",
    "sys.path.append(\"E:\\source\\python\\my_package\")\n",
    "from roboadvisor.crawling import scrap\n",
    "roboadvisor.crawling.scrap.scrap_test()\n",
    "roboadvisor.crawling.scrap.connection_test()"
   ]
  },
  {
   "cell_type": "code",
   "execution_count": 5,
   "id": "a2117d61",
   "metadata": {},
   "outputs": [
    {
     "name": "stdout",
     "output_type": "stream",
     "text": [
      "Not divided by 0\n",
      "10.0\n",
      "5.0\n",
      "3.3333333333333335\n",
      "2.5\n",
      "2.0\n",
      "1.6666666666666667\n",
      "1.4285714285714286\n",
      "1.25\n",
      "1.1111111111111112\n"
     ]
    }
   ],
   "source": [
    "for i in range(10):\n",
    "    try:\n",
    "        print(10/i)\n",
    "    except:\n",
    "        print(\"Not divided by 0\")"
   ]
  },
  {
   "cell_type": "code",
   "execution_count": 6,
   "id": "4b21aa5a",
   "metadata": {},
   "outputs": [
    {
     "name": "stdout",
     "output_type": "stream",
     "text": [
      "====> division by zero\n",
      "Not divided by 0\n",
      "10.0\n",
      "5.0\n",
      "3.3333333333333335\n",
      "2.5\n",
      "2.0\n",
      "1.6666666666666667\n",
      "1.4285714285714286\n",
      "1.25\n",
      "1.1111111111111112\n"
     ]
    }
   ],
   "source": [
    "for i in range(10):\n",
    "    try:\n",
    "        print(10/i)\n",
    "    except ZeroDivisionError as e:\n",
    "        print('====>',e)\n",
    "        print(\"Not divided by 0\")"
   ]
  },
  {
   "cell_type": "code",
   "execution_count": 7,
   "id": "6cf57778",
   "metadata": {},
   "outputs": [
    {
     "name": "stdout",
     "output_type": "stream",
     "text": [
      "10\n",
      "5\n",
      "3\n",
      "2\n",
      "2\n",
      "1\n",
      "1\n",
      "1\n",
      "1\n",
      "프로그램종료\n"
     ]
    }
   ],
   "source": [
    "try:\n",
    "    for i in range(1,10):\n",
    "        result=10//i\n",
    "        print(result)\n",
    "except ZeroDivisionError as e:\n",
    "    print(\"Not divided by 0\")\n",
    "finally:\n",
    "    print(\"프로그램종료\")"
   ]
  },
  {
   "cell_type": "code",
   "execution_count": 9,
   "id": "41230051",
   "metadata": {},
   "outputs": [],
   "source": [
    "def square_numbers(nums):\n",
    "    result=[]\n",
    "    for i in nums:\n",
    "        result.append(i*i)\n",
    "        \n",
    "    return result\n",
    "\n"
   ]
  },
  {
   "cell_type": "code",
   "execution_count": 10,
   "id": "087908ff",
   "metadata": {},
   "outputs": [
    {
     "name": "stdout",
     "output_type": "stream",
     "text": [
      "[1, 4, 9, 16, 25]\n"
     ]
    }
   ],
   "source": [
    "my_nums=square_numbers([1,2,3,4,5])\n",
    "print(my_nums)"
   ]
  },
  {
   "cell_type": "code",
   "execution_count": 13,
   "id": "7f47069e",
   "metadata": {},
   "outputs": [],
   "source": [
    "def square_numbers(nums):\n",
    "    for i in nums:\n",
    "        yield i*i\n",
    "        #iterator를 만들어주는 함수: 제너레이터"
   ]
  },
  {
   "cell_type": "code",
   "execution_count": 18,
   "id": "11e6fd7a",
   "metadata": {},
   "outputs": [
    {
     "name": "stdout",
     "output_type": "stream",
     "text": [
      "1\n",
      "4\n",
      "9\n",
      "16\n",
      "25\n"
     ]
    }
   ],
   "source": [
    "my_nums=square_numbers([1,2,3,4,5])\n",
    "for i in range(5):\n",
    "    print(next(my_nums))"
   ]
  },
  {
   "cell_type": "code",
   "execution_count": null,
   "id": "ae3cae62",
   "metadata": {},
   "outputs": [],
   "source": []
  }
 ],
 "metadata": {
  "kernelspec": {
   "display_name": "Python 3 (ipykernel)",
   "language": "python",
   "name": "python3"
  },
  "language_info": {
   "codemirror_mode": {
    "name": "ipython",
    "version": 3
   },
   "file_extension": ".py",
   "mimetype": "text/x-python",
   "name": "python",
   "nbconvert_exporter": "python",
   "pygments_lexer": "ipython3",
   "version": "3.9.7"
  }
 },
 "nbformat": 4,
 "nbformat_minor": 5
}
